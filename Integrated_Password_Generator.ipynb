{
 "cells": [
  {
   "cell_type": "markdown",
   "id": "ec492595-6d84-4a5d-9ae0-22369302db23",
   "metadata": {},
   "source": [
    "## Integrated Password Generator Using Tkinter"
   ]
  },
  {
   "cell_type": "code",
   "execution_count": 1,
   "id": "7f3d3528-2e36-490a-9eb2-e6b061fe54ee",
   "metadata": {},
   "outputs": [],
   "source": [
    "import tkinter as tk\n",
    "import string\n",
    "import random"
   ]
  },
  {
   "cell_type": "code",
   "execution_count": 2,
   "id": "bc14f369-ea16-41c3-a3a2-fb49941fc6cf",
   "metadata": {},
   "outputs": [],
   "source": [
    "def generate_password(length=12, uppercase=True, lowercase=True, digits=True, special_chars=True):\n",
    "    characters = ''\n",
    "    if uppercase:\n",
    "        characters += string.ascii_uppercase\n",
    "    if lowercase:\n",
    "        characters += string.ascii_lowercase\n",
    "    if digits:\n",
    "        characters += string.digits\n",
    "    if special_chars:\n",
    "        characters += string.punctuation\n",
    "\n",
    "    if not characters:\n",
    "        print(\"Error: At least one character type must be selected.\")\n",
    "        return None\n",
    "\n",
    "    password = ''.join(random.choice(characters) for _ in range(length))\n",
    "\n",
    "    # enable text widget for editing\n",
    "    result_text.config(state=\"normal\")\n",
    "    # clear previous content\n",
    "    result_text.delete(\"1.0\", tk.END)\n",
    "    # insert new text\n",
    "    result_text.insert(tk.END, password)\n",
    "    # disable text widget again to make it read only\n",
    "    result_text.config(state=\"disabled\")"
   ]
  },
  {
   "cell_type": "code",
   "execution_count": 3,
   "id": "ad0c8f1a-1ce1-451d-bdcb-02857077c87c",
   "metadata": {},
   "outputs": [],
   "source": [
    "def start():\n",
    "    # retrieve text from the entry field\n",
    "    password_length = int(length_entry.get())\n",
    "    # retrieve the state of the checkbox\n",
    "    include_uppercase = uppercase_var.get()\n",
    "    include_lowercase = lowercase_var.get()\n",
    "    include_digits = digits_var.get()\n",
    "    include_special_chars = special_chars_var.get()\n",
    "    \n",
    "    # Generate the password based on user inputs\n",
    "    generate_password(\n",
    "        length=password_length,\n",
    "        uppercase=include_uppercase,\n",
    "        lowercase=include_lowercase,\n",
    "        digits=include_digits,\n",
    "        special_chars=include_special_chars\n",
    "    )"
   ]
  },
  {
   "cell_type": "markdown",
   "id": "09b4bcf3-3d3e-4f9a-a3d4-ae22ded15f70",
   "metadata": {},
   "source": [
    "### Main Window GUI Block"
   ]
  },
  {
   "cell_type": "code",
   "execution_count": 4,
   "id": "8107bbbb-6f34-4ad6-812a-eca4d22ae559",
   "metadata": {},
   "outputs": [],
   "source": [
    "# create the main window\n",
    "root = tk.Tk()\n",
    "root.title(\"Example\")\n",
    "\n",
    "# set initial size\n",
    "root.geometry(\"400x300\")\n",
    "\n",
    "# widgets\n",
    "\n",
    "# label for entry field\n",
    "length_label = tk.Label(root, text=\"Enter number\")\n",
    "length_label.pack()\n",
    "\n",
    "# entry field for user input\n",
    "length_entry = tk.Entry(root)\n",
    "length_entry.pack()\n",
    "\n",
    "# button\n",
    "button = tk.Button(root, text=\"Get Text\", command=start)\n",
    "button.pack()\n",
    "\n",
    "# checkbox\n",
    "uppercase_var = tk.BooleanVar(value=True)\n",
    "uppercase = tk.Checkbutton(root, text=\"Include uppercase letters\", variable=uppercase_var)\n",
    "uppercase.pack()\n",
    "\n",
    "lowercase_var = tk.BooleanVar(value=True)\n",
    "lowercase = tk.Checkbutton(root, text=\"Include lowercase letters\", variable=lowercase_var)\n",
    "lowercase.pack()\n",
    "\n",
    "digits_var = tk.BooleanVar(value=True)\n",
    "digits = tk.Checkbutton(root, text=\"Include digits\", variable=digits_var)\n",
    "digits.pack()\n",
    "\n",
    "special_chars_var = tk.BooleanVar(value=True)\n",
    "special_chars = tk.Checkbutton(root, text=\"Include special_chars\", variable=special_chars_var)\n",
    "special_chars.pack()\n",
    "\n",
    "# text widget\n",
    "result_text = tk.Text(root, wrap=\"word\", height=5, state=\"disabled\")\n",
    "result_text.pack()"
   ]
  },
  {
   "cell_type": "code",
   "execution_count": 5,
   "id": "29249b61-bd33-4244-8408-ea762f3dcc29",
   "metadata": {},
   "outputs": [],
   "source": [
    "# run the application\n",
    "root.mainloop()"
   ]
  }
 ],
 "metadata": {
  "kernelspec": {
   "display_name": "Python 3 (ipykernel)",
   "language": "python",
   "name": "python3"
  },
  "language_info": {
   "codemirror_mode": {
    "name": "ipython",
    "version": 3
   },
   "file_extension": ".py",
   "mimetype": "text/x-python",
   "name": "python",
   "nbconvert_exporter": "python",
   "pygments_lexer": "ipython3",
   "version": "3.12.4"
  }
 },
 "nbformat": 4,
 "nbformat_minor": 5
}

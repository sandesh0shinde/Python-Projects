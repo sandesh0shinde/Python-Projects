{
 "cells": [
  {
   "cell_type": "markdown",
   "id": "98bc531e-9cd2-4c0e-94e2-34bd6876ddee",
   "metadata": {},
   "source": [
    "## Hangman Project"
   ]
  },
  {
   "cell_type": "code",
   "execution_count": null,
   "id": "a8456958-afa0-4104-938d-b836a0a76395",
   "metadata": {},
   "outputs": [],
   "source": [
    "import random"
   ]
  },
  {
   "cell_type": "code",
   "execution_count": null,
   "id": "b993e848-6b72-486c-87c0-0df12f4ce0dc",
   "metadata": {},
   "outputs": [],
   "source": [
    "print(\"Welcome user!!\")"
   ]
  },
  {
   "cell_type": "markdown",
   "id": "8203b31a-09b3-42c4-b865-039b14884844",
   "metadata": {},
   "source": [
    "### Words and Stages"
   ]
  },
  {
   "cell_type": "code",
   "execution_count": null,
   "id": "eb97306b-1629-459c-95b4-05be6ab092dd",
   "metadata": {},
   "outputs": [],
   "source": [
    "#words and Stages\n",
    "words = [\n",
    "    'python', 'javascript', 'kotlin', 'ruby', 'swift', 'algorithm',\n",
    "    'compiler', 'database', 'encryption', 'firewall', 'hardware',\n",
    "    'internet', 'java', 'kernel', 'malware', 'network', 'object',\n",
    "    'protocol', 'query', 'router', 'security', 'token', 'url',\n",
    "    'virtual', 'wireless', 'xml', 'yaml', 'zip', 'abstract', 'binary',\n",
    "    'cache', 'developer', 'ethernet', 'framework', 'gateway', 'hexadecimal',\n",
    "    'iteration', 'juxtapose', 'keystroke', 'lambda', 'metadata', 'node']\n",
    "\n",
    "hangman_stages = [\"\"\"\n",
    "   +---+\n",
    "   O   |\n",
    "  /|\\\\  |\n",
    "  / \\\\  |\n",
    "      ===\"\"\", '''\n",
    "   +---+\n",
    "   O   |\n",
    "  /|\\\\  |\n",
    "  /    |\n",
    "      ===''', '''\n",
    "   +---+\n",
    "   O   |\n",
    "  /|\\\\  |\n",
    "       |\n",
    "      ===''', '''\n",
    "   +---+\n",
    "   O   |\n",
    "  /|   |\n",
    "       |\n",
    "      ===''', '''\n",
    "   +---+\n",
    "   O   |\n",
    "   |   |\n",
    "       |\n",
    "      ===''', '''\n",
    "   +---+\n",
    "   O   |\n",
    "       |\n",
    "       |\n",
    "      ===''', '''\n",
    "   +---+\n",
    "       |\n",
    "       |\n",
    "       |\n",
    "      ===''',]"
   ]
  },
  {
   "cell_type": "markdown",
   "id": "50b7a8af-64b2-450e-af5c-4fb514574939",
   "metadata": {},
   "source": [
    "### Random Choice of Word"
   ]
  },
  {
   "cell_type": "code",
   "execution_count": null,
   "id": "dbb1cf09-cd39-4621-a3ee-4b4c7a7a9e15",
   "metadata": {},
   "outputs": [],
   "source": [
    "chosen_word = random.choice(words)\n",
    "chosen_word"
   ]
  },
  {
   "cell_type": "code",
   "execution_count": null,
   "id": "4a4bb978-8c6d-43d6-82d2-00e0958e4969",
   "metadata": {},
   "outputs": [],
   "source": [
    "attempts = random.randint(3, len(chosen_word))\n",
    "attempts"
   ]
  },
  {
   "cell_type": "code",
   "execution_count": null,
   "id": "11071458-28f4-448d-b610-859e479656d2",
   "metadata": {},
   "outputs": [],
   "source": [
    "word_display = ['_' for _ in chosen_word]"
   ]
  },
  {
   "cell_type": "code",
   "execution_count": null,
   "id": "48097de3-b5f1-481d-a619-5f492179c57b",
   "metadata": {},
   "outputs": [],
   "source": [
    "def display_state():\n",
    "    print(f\"Attempts: {attempts}\")\n",
    "    print(f\"{hangman_stages[attempts]}\")\n",
    "    print(' '.join(word_display))"
   ]
  },
  {
   "cell_type": "code",
   "execution_count": null,
   "id": "87ce81e5-3ff0-4f2a-b2e6-2400086aedbb",
   "metadata": {},
   "outputs": [],
   "source": [
    "def display_word():\n",
    "    print(' '.join(word_display))"
   ]
  },
  {
   "cell_type": "markdown",
   "id": "1d642b34-17c8-477f-86f8-3592027b2dc9",
   "metadata": {},
   "source": [
    "### Driver Code"
   ]
  },
  {
   "cell_type": "code",
   "execution_count": null,
   "id": "7e5c2374-4385-41d8-be15-e4fc2449d8a2",
   "metadata": {},
   "outputs": [],
   "source": [
    "while attempts > 0 and '_' in word_display:\n",
    "    display_state()\n",
    "    guess = input(\"Guess a letter: \").lower()\n",
    "\n",
    "    if guess in chosen_word:\n",
    "        for index, letter in enumerate(chosen_word):\n",
    "            if letter == guess:\n",
    "                if word_display[index] == '_':\n",
    "                    word_display[index] = guess\n",
    "\n",
    "    else:\n",
    "        print(\"Incorrect. Try again.\")\n",
    "        attempts -= 1\n",
    "\n",
    "    if '_' not in word_display:\n",
    "        display_state()\n",
    "        print(\"Congartulations, You won!!!\")\n",
    "        break\n",
    "\n",
    "if attempts == 0:\n",
    "    display_state()\n",
    "    print(\"You ran out of attempts, you lost. \\nThe word was:\", chosen_word)\n",
    "\n",
    "display_word()"
   ]
  },
  {
   "cell_type": "code",
   "execution_count": null,
   "id": "02c88e28-702d-4dcc-8525-371d50d1c4cd",
   "metadata": {},
   "outputs": [],
   "source": []
  }
 ],
 "metadata": {
  "kernelspec": {
   "display_name": "Python 3 (ipykernel)",
   "language": "python",
   "name": "python3"
  },
  "language_info": {
   "codemirror_mode": {
    "name": "ipython",
    "version": 3
   },
   "file_extension": ".py",
   "mimetype": "text/x-python",
   "name": "python",
   "nbconvert_exporter": "python",
   "pygments_lexer": "ipython3",
   "version": "3.12.4"
  }
 },
 "nbformat": 4,
 "nbformat_minor": 5
}

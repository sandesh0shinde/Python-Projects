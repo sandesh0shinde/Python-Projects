{
 "cells": [
  {
   "cell_type": "markdown",
   "id": "8ffca727-c095-4184-9d2e-f910963e9326",
   "metadata": {},
   "source": [
    "## Rock - Paper - Scissors Game Simulation"
   ]
  },
  {
   "cell_type": "code",
   "execution_count": 17,
   "id": "459bcbe4-5f10-49b8-89ac-ad194d24fc87",
   "metadata": {},
   "outputs": [],
   "source": [
    "import random"
   ]
  },
  {
   "cell_type": "code",
   "execution_count": 18,
   "id": "6049c711-8761-4155-bd65-ee6198003885",
   "metadata": {},
   "outputs": [],
   "source": [
    "#Available Choices\n",
    "choices = [\"rock\", \"paper\", \"scissors\"]"
   ]
  },
  {
   "cell_type": "markdown",
   "id": "8680dc66-e84b-4dad-a150-5565624877cb",
   "metadata": {},
   "source": [
    "### Getting Choices from Player and Computer"
   ]
  },
  {
   "cell_type": "code",
   "execution_count": 19,
   "id": "19460245-a204-448c-9768-c184bf1bc5df",
   "metadata": {},
   "outputs": [],
   "source": [
    "def get_user_choice():\n",
    "    hand = input(f\"Enter your choice from the given choices - {choices}\").lower()\n",
    "    while hand not in choices:\n",
    "        hand = input(f\"Invalid Choice! \\nChoose from {choices} \")\n",
    "    return hand"
   ]
  },
  {
   "cell_type": "code",
   "execution_count": 20,
   "id": "d9e9d71a-e785-4a7c-a6d9-76e1aa0c8c91",
   "metadata": {},
   "outputs": [],
   "source": [
    "def get_computer_choice():\n",
    "    return random.choice(choices)"
   ]
  },
  {
   "cell_type": "markdown",
   "id": "b5db195d-fb5b-4d9a-9417-b4fb57bd5fa5",
   "metadata": {},
   "source": [
    "### Deciding the Winner"
   ]
  },
  {
   "cell_type": "code",
   "execution_count": 24,
   "id": "14858365-a802-4b0c-95f9-11b53ab622cd",
   "metadata": {},
   "outputs": [],
   "source": [
    "def deciding_winner(user_choice, computer_choice):\n",
    "    if user_choice == computer_choice:\n",
    "        print(\"User Choice: \", user_choice,\"\\nComputer choice: \", computer_choice)\n",
    "        print(\"Same Choices!!\")\n",
    "        print(\"Game Tie\")\n",
    "    elif (user_choice == \"rock\" and computer_choice == \"scissors\") or (user_choice == \"scissors\" and computer_choice == \"paper\") or (user_choice == \"paper\" and computer_choice == \"rock\"):\n",
    "        print(\"User Choice: \", user_choice,\"\\nComputer choice: \", computer_choice)\n",
    "        print(\"You Win\")\n",
    "    else:\n",
    "        print(\"User Choice: \", user_choice,\"\\nComputer choice: \", computer_choice)\n",
    "        print(\"Computer Wins\")"
   ]
  },
  {
   "cell_type": "markdown",
   "id": "1612b100-ea03-4b07-9b49-f0caa17f600e",
   "metadata": {},
   "source": [
    "### Driver Block"
   ]
  },
  {
   "cell_type": "code",
   "execution_count": 27,
   "id": "92d0e24e-f0e2-4d34-b969-fffe8bacdfcd",
   "metadata": {},
   "outputs": [],
   "source": [
    "def game():\n",
    "    while True:\n",
    "        user_choice = get_user_choice()\n",
    "        computer_choice = get_computer_choice()\n",
    "        deciding_winner(user_choice, computer_choice)\n",
    "        decision = ['Y','y','N','n']\n",
    "        answer = input(\"\\nDo you want to play again? \\nEnter Y for yes \\nAnd N for no\\t\").lower()\n",
    "        \n",
    "        while answer not in decision:\n",
    "            answer = input(f\"Invalid decision! Enter Y or N\")\n",
    "        if answer == 'n':\n",
    "            break"
   ]
  },
  {
   "cell_type": "code",
   "execution_count": 28,
   "id": "73133ceb-938d-4c08-a633-c0de0e83a56a",
   "metadata": {},
   "outputs": [
    {
     "name": "stdin",
     "output_type": "stream",
     "text": [
      "Enter your choice from the given choices - ['rock', 'paper', 'scissors'] rock\n"
     ]
    },
    {
     "name": "stdout",
     "output_type": "stream",
     "text": [
      "User Choice:  rock \n",
      "Computer choice:  scissors\n",
      "You Win\n"
     ]
    },
    {
     "name": "stdin",
     "output_type": "stream",
     "text": [
      "\n",
      "Do you want to play again? \n",
      "Enter Y for yes \n",
      "And N for no\t Y\n",
      "Enter your choice from the given choices - ['rock', 'paper', 'scissors'] Paper\n"
     ]
    },
    {
     "name": "stdout",
     "output_type": "stream",
     "text": [
      "User Choice:  paper \n",
      "Computer choice:  scissors\n",
      "Computer Wins\n"
     ]
    },
    {
     "name": "stdin",
     "output_type": "stream",
     "text": [
      "\n",
      "Do you want to play again? \n",
      "Enter Y for yes \n",
      "And N for no\t N\n"
     ]
    }
   ],
   "source": [
    "game()"
   ]
  },
  {
   "cell_type": "code",
   "execution_count": null,
   "id": "135d3b64-a5e2-477a-8194-d1d6bcadd211",
   "metadata": {},
   "outputs": [],
   "source": []
  }
 ],
 "metadata": {
  "kernelspec": {
   "display_name": "Python 3 (ipykernel)",
   "language": "python",
   "name": "python3"
  },
  "language_info": {
   "codemirror_mode": {
    "name": "ipython",
    "version": 3
   },
   "file_extension": ".py",
   "mimetype": "text/x-python",
   "name": "python",
   "nbconvert_exporter": "python",
   "pygments_lexer": "ipython3",
   "version": "3.12.4"
  }
 },
 "nbformat": 4,
 "nbformat_minor": 5
}

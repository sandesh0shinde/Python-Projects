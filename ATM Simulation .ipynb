{
 "cells": [
  {
   "cell_type": "code",
   "execution_count": null,
   "id": "bc4ebde5-7e2d-403e-a04c-2d5a1d51a93d",
   "metadata": {},
   "outputs": [],
   "source": [
    "#Objective 1\n",
    "print(\"Welcome ot the Simple ATM Simulator!\")\n",
    "#Default Balance\n",
    "bal = 1000"
   ]
  },
  {
   "cell_type": "code",
   "execution_count": null,
   "id": "876f27f1-2775-431e-991a-88b309258f32",
   "metadata": {},
   "outputs": [],
   "source": [
    "#Setting new pin\n",
    "choice = input(\"Do you want to set new ATM pin? [Y/N]\")\n",
    "if choice == 'Y' or choice == 'y':\n",
    "    new_pin = input(\"Enter new pin: \")"
   ]
  },
  {
   "cell_type": "code",
   "execution_count": null,
   "id": "dc41dd0c-4334-4510-bc35-abb200e91851",
   "metadata": {},
   "outputs": [],
   "source": [
    "#Objective 3\n",
    "user_pin = '1234'\n",
    "if new_pin:\n",
    "    user_pin = new_pin\n",
    "atm_on = False\n",
    "pin = input(\"Enter user_pin: \")\n",
    "if pin == user_pin:\n",
    "    atm_on = True\n",
    "else:\n",
    "    atm_on = False\n",
    "print(atm_on)"
   ]
  },
  {
   "cell_type": "code",
   "execution_count": null,
   "id": "2512c440-c13e-4f91-988d-b147fa130913",
   "metadata": {},
   "outputs": [],
   "source": [
    "#Objective 4\n",
    "while atm_on == True:\n",
    "    print(\"1. Check Balance\\n2. Deposit Money\\n3. Withdraw Money\\n4. Exit\")\n",
    "    choice = int(input(\"Enter your choice: \"))\n",
    "#Objective 5\n",
    "    if choice == 1:\n",
    "        print(\"Balance: \",bal)\n",
    "    elif choice == 2:\n",
    "        deposit = float(input(\"Enter amount for deposit: \"))\n",
    "        bal += deposit\n",
    "        print(\"Amount Deposit Succesful\")\n",
    "        print(\"Current Balance: \",bal)\n",
    "    elif choice == 3:\n",
    "        withdrawl = float(input(\"Enter amount for withdrawl: \"))\n",
    "        if bal < withdrawl:\n",
    "            print(\"Warning : Insufficient Balance!\")\n",
    "            print(\"Current Balance: \",bal)\n",
    "        else:\n",
    "            bal -= withdrawl\n",
    "            print(\"Amount Withdrawl Succesful\")\n",
    "            print(\"Current Balance: \",bal)\n",
    "    elif choice == 4:\n",
    "        print(\"Function exited\\nGoodbye!\")\n",
    "        atm_on = False\n",
    "    else:\n",
    "        print(\"Invalid choice!\")\n",
    "    print()"
   ]
  },
  {
   "cell_type": "code",
   "execution_count": null,
   "id": "84499e50-3613-46a7-a4cd-7a7a0266de3e",
   "metadata": {},
   "outputs": [],
   "source": []
  }
 ],
 "metadata": {
  "kernelspec": {
   "display_name": "Python 3 (ipykernel)",
   "language": "python",
   "name": "python3"
  },
  "language_info": {
   "codemirror_mode": {
    "name": "ipython",
    "version": 3
   },
   "file_extension": ".py",
   "mimetype": "text/x-python",
   "name": "python",
   "nbconvert_exporter": "python",
   "pygments_lexer": "ipython3",
   "version": "3.12.4"
  }
 },
 "nbformat": 4,
 "nbformat_minor": 5
}
